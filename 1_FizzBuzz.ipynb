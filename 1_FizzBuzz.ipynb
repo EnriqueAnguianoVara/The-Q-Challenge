{
 "cells": [
  {
   "cell_type": "markdown",
   "id": "2382b016-03a8-4949-ad61-1e4f55f264aa",
   "metadata": {},
   "source": [
    "# dotQ challenge Nº1: $|\\textit{FizzBuzz}\\rangle$\n",
    "### By: Enrique Anguiano-Vara "
   ]
  },
  {
   "cell_type": "markdown",
   "id": "cd6496a8-7372-4f44-b5e2-49a839aa9e66",
   "metadata": {},
   "source": [
    "- Every programmer knows the FizzBuzz programming interview question: \n",
    "> \"Given a list of items from 1 to 100, print on the screen 'Fizz' if the iteration number is a multiple of 3 and 'Buzz' if it is 5. Of course, if a number is a multiple of 3 and 5, it will print 'FizzBuzz'\" \n",
    "\n",
    "- Coding it in a classical way is easy. Here is my example in C++ (if you don't know this programing languaje, [here](https://web.stanford.edu/class/archive/cs/cs106b/cs106b.1178/lectures/28-DifferentLanguages/code/handout.pdf) is the solution it in Python, JavaScript, Haskell and COBOL):\n",
    "```\n",
    "#include <iostream>\n",
    "\n",
    "using namespace std;\n",
    "\n",
    "int main ()\n",
    "{\n",
    "    for (int i = 1; i <= 100; i++)\n",
    "    {\n",
    "        cout << i << \": \";\n",
    "        if (!(i%3)) cout << \"Fizz\";\n",
    "        if (!(i%5)) cout << \"Buzz\";\n",
    "        cout << endl;\n",
    "    }\n",
    "  return 0;\n",
    "}\n",
    "\n",
    "```\n",
    "- But can you do it using quantum computing tool?\n"
   ]
  },
  {
   "cell_type": "markdown",
   "id": "556d1d6d-836f-4384-aedf-3456e9f6df83",
   "metadata": {},
   "source": [
    "## Let's make it quantum!\n",
    "Now we will modify this exercise a bit. First, instead of a list we will have single number, $x$, that will be a function parameter. The main idea, using the fizzbuzz operator, $U_{FB}$:\n",
    "\n",
    "$$U_{FB}(x)|0\\rangle^{\\otimes 2} \\Rightarrow |\\textit{is_Fizz}\\rangle|\\textit{is_Buzz}\\rangle$$\n",
    "\n",
    "or you can use x as a input state, $|x\\rangle$:\n",
    "\n",
    "$$U_{FB}|x\\rangle^{\\otimes n}|0\\rangle^{\\otimes 2} \\Rightarrow |x\\rangle^{\\otimes n} |\\textit{is_Fizz}\\rangle|\\textit{is_Buzz}\\rangle$$\n",
    "\n",
    "The decision is yours :)"
   ]
  },
  {
   "cell_type": "markdown",
   "id": "45944d59-d002-4443-b143-291ca745a584",
   "metadata": {},
   "source": [
    "### What is the challenge?\n",
    "- Make a quantum circuit equivalent to $U_{FB}$\n",
    "  - In this challenge we'll use **Qiskit**\n",
    "  - Complete this exercise correctly for **any x**. \n",
    "  - You'll be competing with others to win. We'll have **two types of winners**: the **fastest** and the one with the **best idea**. Try to win both!"
   ]
  },
  {
   "cell_type": "code",
   "execution_count": 1,
   "id": "3a704669-7fee-4edc-8dd5-31b7623c4b19",
   "metadata": {
    "tags": []
   },
   "outputs": [],
   "source": [
    "# Import libraries\n",
    "from qiskit import QuantumCircuit\n",
    "import numpy as np"
   ]
  },
  {
   "cell_type": "code",
   "execution_count": 2,
   "id": "26283250-41a4-4288-b474-2aa53d076fb0",
   "metadata": {
    "tags": []
   },
   "outputs": [],
   "source": [
    "def fizzbuzz(x : int) -> QuantumCircuit:\n",
    "    '''\n",
    "    INPUTS: x, the input number\n",
    "    OUTPUTS: the fizzbuzz quantum ciruit\n",
    "    '''\n",
    "    pass"
   ]
  },
  {
   "cell_type": "code",
   "execution_count": null,
   "id": "37ead814-d5c3-481d-9f59-fe7aaf9b48c7",
   "metadata": {},
   "outputs": [],
   "source": []
  }
 ],
 "metadata": {
  "kernelspec": {
   "display_name": "Python 3 (ipykernel)",
   "language": "python",
   "name": "python3"
  },
  "language_info": {
   "codemirror_mode": {
    "name": "ipython",
    "version": 3
   },
   "file_extension": ".py",
   "mimetype": "text/x-python",
   "name": "python",
   "nbconvert_exporter": "python",
   "pygments_lexer": "ipython3",
   "version": "3.10.8"
  },
  "widgets": {
   "application/vnd.jupyter.widget-state+json": {
    "state": {},
    "version_major": 2,
    "version_minor": 0
   }
  }
 },
 "nbformat": 4,
 "nbformat_minor": 5
}
