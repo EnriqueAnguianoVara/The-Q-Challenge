{
 "cells": [
  {
   "cell_type": "markdown",
   "id": "addd7705-58a5-4425-b625-7ba83b562c48",
   "metadata": {},
   "source": [
    "# dotQ challenge Nº1: $|\\textit{FizzBuzz}\\rangle$\n",
    "### By: Enrique Anguiano-Vara "
   ]
  },
  {
   "cell_type": "markdown",
   "id": "81b114bd-4041-4f0f-82aa-8761dbd57377",
   "metadata": {
    "tags": []
   },
   "source": [
    "- Every programmer knows the FizzBuzz programming interview question: \n",
    "> \"Given a list of items from 1 to 100, print on the screen 'Fizz' if the iteration number is a multiple of 3 and 'Buzz' if it is 5. Of course, if a number is a multiple of 3 and 5, it will print 'FizzBuzz'\" \n",
    "\n",
    "- Coding it in a classical way is easy. Here is my example in C++ (if you don't know this programing languaje, [here](https://web.stanford.edu/class/archive/cs/cs106b/cs106b.1178/lectures/28-DifferentLanguages/code/handout.pdf) is the solution it in Python, JavaScript, Haskell and COBOL):\n",
    "```\n",
    "#include <iostream>\n",
    "\n",
    "using namespace std;\n",
    "\n",
    "int main ()\n",
    "{\n",
    "    for (int i = 1; i <= 100; i++)\n",
    "    {\n",
    "        cout << i << \": \";\n",
    "        if (!(i%3)) cout << \"Fizz\";\n",
    "        if (!(i%5)) cout << \"Buzz\";\n",
    "        cout << endl;\n",
    "    }\n",
    "  return 0;\n",
    "}\n",
    "\n",
    "```\n",
    "- But can you do it using a quantum computing tool?\n"
   ]
  },
  {
   "cell_type": "markdown",
   "id": "79b2d242-7494-4da3-ad53-bb3f001f7ad7",
   "metadata": {},
   "source": [
    "## Let's make it quantum!\n",
    "Now we will modify this exercise a bit. First, instead of a list we will have single number, $x$, that will be a function parameter. The main idea, using the fizzbuzz operator, $U_{FB}$:\n",
    "\n",
    "$$U_{FB}(x)|0\\rangle^{\\otimes 2} \\Rightarrow |\\textit{is_Fizz}\\rangle|\\textit{is_Buzz}\\rangle$$\n",
    "\n",
    "or you can use x as a input state, $|x\\rangle$:\n",
    "\n",
    "$$U_{FB}|x\\rangle^{\\otimes n}|0\\rangle^{\\otimes 2} \\Rightarrow |x\\rangle^{\\otimes n} |\\textit{is_Fizz}\\rangle|\\textit{is_Buzz}\\rangle$$\n",
    "\n",
    "The decision is yours :)"
   ]
  },
  {
   "cell_type": "markdown",
   "id": "8bc12211-30de-4b1a-98a8-a07c619748e7",
   "metadata": {
    "tags": []
   },
   "source": [
    "### What is the challenge?\n",
    "- Make a quantum circuit equivalent to $U_{FB}$\n",
    "  - In this challenge we'll use **Qiskit**\n",
    "  - Complete this exercise correctly for **any x**. \n",
    "  - You'll be competing with others to win. We'll have **two types of winners**: the **fastest** and the one with the **best idea**. Try to win both!"
   ]
  },
  {
   "cell_type": "code",
   "execution_count": 89,
   "id": "cf23c2b0-e649-4632-8483-1d78850ad233",
   "metadata": {
    "tags": []
   },
   "outputs": [],
   "source": [
    "# Import libraries\n",
    "from qiskit import QuantumCircuit\n",
    "import numpy as np"
   ]
  },
  {
   "cell_type": "code",
   "execution_count": 90,
   "id": "4de0b02a-3ce7-4776-9162-71aeeefad976",
   "metadata": {
    "tags": []
   },
   "outputs": [],
   "source": [
    "def fizzbuzz(x : int) -> QuantumCircuit:\n",
    "    '''\n",
    "    INPUTS: x, the input number\n",
    "    OUTPUTS: the fizzbuzz quantum ciruit\n",
    "    '''\n",
    "    pass\n",
    "    "
   ]
  },
  {
   "cell_type": "markdown",
   "id": "7ff72391-c7cc-49f9-bf97-33654a342112",
   "metadata": {
    "tags": []
   },
   "source": [
    "## My solution\n"
   ]
  },
  {
   "cell_type": "code",
   "execution_count": 91,
   "id": "79cf2108-06d6-468c-b8e7-3a35768d58c6",
   "metadata": {},
   "outputs": [],
   "source": [
    "import numpy as np\n",
    "import math\n",
    "from qiskit.quantum_info import Operator\n",
    "from qiskit.circuit.library import MCMT,XGate\n",
    "from qiskit import QuantumCircuit"
   ]
  },
  {
   "cell_type": "code",
   "execution_count": 92,
   "id": "e9a32d4c-c0d4-4e3a-9a28-c7a65c73bcac",
   "metadata": {},
   "outputs": [],
   "source": [
    "def x_mod_y(x, y):\n",
    "    N = 2 ** int(math.ceil(math.log(y, 2)))\n",
    "    u = np.zeros(shape = (N,N))\n",
    "    x_mod_y = x % y\n",
    "    \n",
    "    permutation = 0\n",
    "    for i in range(x_mod_y, (y + x_mod_y)):\n",
    "        u[i % y][permutation] = 1\n",
    "        permutation += 1\n",
    "    \n",
    "    for r in range(y,N):\n",
    "        u[r][r] = 1\n",
    "    \n",
    "    U = Operator(u)\n",
    "    return U"
   ]
  },
  {
   "cell_type": "code",
   "execution_count": 99,
   "id": "ec19d38e-9cbf-4e1b-be6f-2084d3d7580b",
   "metadata": {},
   "outputs": [],
   "source": [
    "def fizz(qc,x):\n",
    "    qc.append(x_mod_y(x,3),[5,6])\n",
    "    qc.x([5,6])\n",
    "    qc.append(MCMT(XGate(),2,1),[5,6,1])\n",
    "\n",
    "def buzz(qc,x):\n",
    "    qc.append(x_mod_y(x,5),[2,3,4])\n",
    "    qc.x([2,3,4])\n",
    "    qc.append(MCMT(XGate(),3,1),[2,3,4,0])"
   ]
  },
  {
   "cell_type": "code",
   "execution_count": 100,
   "id": "d40cf42b-cf2e-48d6-87f9-21daa460bb4b",
   "metadata": {},
   "outputs": [],
   "source": [
    "def fizzbuzz(x: int)-> QuantumCircuit:\n",
    "    qc = QuantumCircuit(2+3+2,2) # (isFizz,is_Buzz)+ ancilla for Fizz + ancilla for Buzz\n",
    "    fizz(qc,x)\n",
    "    buzz(qc,x)\n",
    "    qc.measure([0,1],[0,1])\n",
    "    return qc"
   ]
  },
  {
   "cell_type": "markdown",
   "id": "76ef06a1-d23b-4266-977f-8c3df9c971de",
   "metadata": {},
   "source": [
    "### Now let's see if this works"
   ]
  },
  {
   "cell_type": "code",
   "execution_count": 101,
   "id": "97a2a695-643e-4058-b821-53fcb68a478c",
   "metadata": {
    "tags": []
   },
   "outputs": [
    {
     "data": {
      "text/plain": [
       "[{'00': 1024}, {'10': 1024}, {'01': 1024}, {'11': 1024}]"
      ]
     },
     "execution_count": 101,
     "metadata": {},
     "output_type": "execute_result"
    }
   ],
   "source": [
    "from qiskit_ibm_runtime import Estimator\n",
    "from qiskit.quantum_info import SparsePauliOp\n",
    "from qiskit import Aer, execute\n",
    "\n",
    "tests = [4,33,50,15] #Correct ouputs: 00,10,01,11\n",
    "execute([fizzbuzz(x) for x in tests], Aer.get_backend(\"qasm_simulator\")).result().get_counts()"
   ]
  },
  {
   "cell_type": "markdown",
   "id": "5a906087-dd9f-4aa6-a372-54cd68f0c206",
   "metadata": {},
   "source": [
    "### Circuit visualization"
   ]
  },
  {
   "cell_type": "code",
   "execution_count": 102,
   "id": "a388856d-d52f-4c5a-9749-36eabd22ee27",
   "metadata": {
    "tags": []
   },
   "outputs": [
    {
     "name": "stdout",
     "output_type": "stream",
     "text": [
      "                               ┌───────┐┌─┐   \n",
      "q_0: ──────────────────────────┤3      ├┤M├───\n",
      "                      ┌───────┐│       │└╥┘┌─┐\n",
      "q_1: ─────────────────┤2      ├┤       ├─╫─┤M├\n",
      "     ┌──────────┐┌───┐│       ││       │ ║ └╥┘\n",
      "q_2: ┤0         ├┤ X ├┤       ├┤0 mcmt ├─╫──╫─\n",
      "     │          │├───┤│       ││       │ ║  ║ \n",
      "q_3: ┤1 Unitary ├┤ X ├┤       ├┤1      ├─╫──╫─\n",
      "     │          │├───┤│  mcmt ││       │ ║  ║ \n",
      "q_4: ┤2         ├┤ X ├┤       ├┤2      ├─╫──╫─\n",
      "     ├──────────┤├───┤│       │└───────┘ ║  ║ \n",
      "q_5: ┤0         ├┤ X ├┤0      ├──────────╫──╫─\n",
      "     │  Unitary │├───┤│       │          ║  ║ \n",
      "q_6: ┤1         ├┤ X ├┤1      ├──────────╫──╫─\n",
      "     └──────────┘└───┘└───────┘          ║  ║ \n",
      "c: 2/════════════════════════════════════╩══╩═\n",
      "                                         0  1 \n"
     ]
    }
   ],
   "source": [
    "print(fizzbuzz(0))"
   ]
  },
  {
   "cell_type": "code",
   "execution_count": null,
   "id": "5decd693-de42-4134-85e8-1e8d0cee234d",
   "metadata": {},
   "outputs": [],
   "source": []
  }
 ],
 "metadata": {
  "kernelspec": {
   "display_name": "Python 3 (ipykernel)",
   "language": "python",
   "name": "python3"
  },
  "language_info": {
   "codemirror_mode": {
    "name": "ipython",
    "version": 3
   },
   "file_extension": ".py",
   "mimetype": "text/x-python",
   "name": "python",
   "nbconvert_exporter": "python",
   "pygments_lexer": "ipython3",
   "version": "3.10.8"
  },
  "widgets": {
   "application/vnd.jupyter.widget-state+json": {
    "state": {},
    "version_major": 2,
    "version_minor": 0
   }
  }
 },
 "nbformat": 4,
 "nbformat_minor": 5
}
